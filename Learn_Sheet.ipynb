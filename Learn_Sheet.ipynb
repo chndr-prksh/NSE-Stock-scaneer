{
 "cells": [
  {
   "cell_type": "code",
   "execution_count": 33,
   "id": "98d34665",
   "metadata": {},
   "outputs": [],
   "source": [
    "from nsepy import get_history\n",
    "from datetime import date\n",
    "import pandas as pd\n",
    "import numpy as np\n",
    "import gspread"
   ]
  },
  {
   "cell_type": "code",
   "execution_count": 34,
   "id": "5c0e9b44",
   "metadata": {},
   "outputs": [],
   "source": [
    "stock = \"ITC\""
   ]
  },
  {
   "cell_type": "code",
   "execution_count": 35,
   "id": "569d0e5e",
   "metadata": {},
   "outputs": [],
   "source": [
    "data = get_history(symbol=stock, start=date(2020,1,1), end=date(2021,1,1))"
   ]
  },
  {
   "cell_type": "code",
   "execution_count": 36,
   "id": "a4839077",
   "metadata": {},
   "outputs": [
    {
     "data": {
      "text/plain": [
       "(253, 14)"
      ]
     },
     "execution_count": 36,
     "metadata": {},
     "output_type": "execute_result"
    }
   ],
   "source": [
    "data.shape"
   ]
  },
  {
   "cell_type": "code",
   "execution_count": 37,
   "id": "43add149",
   "metadata": {},
   "outputs": [
    {
     "name": "stdout",
     "output_type": "stream",
     "text": [
      "           Symbol Series  Prev Close    Open    High     Low    Last   Close  \\\n",
      "Date                                                                           \n",
      "2020-01-01    ITC     EQ      237.70  238.60  238.60  237.10  238.00  238.10   \n",
      "2020-01-02    ITC     EQ      238.10  238.20  240.95  238.10  240.30  239.85   \n",
      "2020-01-03    ITC     EQ      239.85  241.00  241.00  238.00  238.45  238.50   \n",
      "2020-01-06    ITC     EQ      238.50  237.50  238.30  235.00  235.30  235.10   \n",
      "2020-01-07    ITC     EQ      235.10  236.05  237.90  234.60  235.50  235.35   \n",
      "...           ...    ...         ...     ...     ...     ...     ...     ...   \n",
      "2020-12-28    ITC     EQ      208.60  209.00  210.20  207.85  209.60  209.50   \n",
      "2020-12-29    ITC     EQ      209.50  210.50  213.50  210.10  211.65  211.55   \n",
      "2020-12-30    ITC     EQ      211.55  212.70  213.50  209.55  211.00  211.15   \n",
      "2020-12-31    ITC     EQ      211.15  210.55  211.30  208.55  209.10  209.00   \n",
      "2021-01-01    ITC     EQ      209.00  209.90  214.20  209.30  213.90  213.85   \n",
      "\n",
      "              VWAP    Volume      Turnover  Trades  Deliverable Volume  \\\n",
      "Date                                                                     \n",
      "2020-01-01  237.85   4208837  1.001078e+14   38576             1848314   \n",
      "2020-01-02  239.71   8402979  2.014241e+14   84223             5619818   \n",
      "2020-01-03  238.66   9284478  2.215853e+14   64049             6344169   \n",
      "2020-01-06  236.15   7636617  1.803375e+14   72977             4934625   \n",
      "2020-01-07  235.94   8416741  1.985825e+14   66747             4781835   \n",
      "...            ...       ...           ...     ...                 ...   \n",
      "2020-12-28  209.19  15741000  3.292794e+14  113830             5261031   \n",
      "2020-12-29  211.71  26546469  5.620085e+14  142222             8360123   \n",
      "2020-12-30  211.22  18925262  3.997317e+14  104450             5157075   \n",
      "2020-12-31  209.66  18245270  3.825392e+14  138886             6869930   \n",
      "2021-01-01  212.11  19527333  4.141865e+14   97216             6064448   \n",
      "\n",
      "            %Deliverble  \n",
      "Date                     \n",
      "2020-01-01       0.4392  \n",
      "2020-01-02       0.6688  \n",
      "2020-01-03       0.6833  \n",
      "2020-01-06       0.6462  \n",
      "2020-01-07       0.5681  \n",
      "...                 ...  \n",
      "2020-12-28       0.3342  \n",
      "2020-12-29       0.3149  \n",
      "2020-12-30       0.2725  \n",
      "2020-12-31       0.3765  \n",
      "2021-01-01       0.3106  \n",
      "\n",
      "[253 rows x 14 columns]\n"
     ]
    }
   ],
   "source": [
    "print(data)"
   ]
  },
  {
   "cell_type": "code",
   "execution_count": 38,
   "id": "3cf5dbf0",
   "metadata": {},
   "outputs": [],
   "source": [
    "def get_stock_data(stock):\n",
    "    stock = stock.lower()\n",
    "    \n",
    "    a = get_history(symbol=\"stock\", start=date(2020,9,23), end=date.today(), index=True)\n",
    "    a['Stock Name'] = stock.upper()\n",
    "    a = a [['Stock Name','Open','High','Low','Close','Volume']]\n",
    "    \n",
    "    a = pd.DataFrame(a.T.reset_index().T.values[1:],columns = a.T.reset_index().T.values[0])\n",
    "    return a"
   ]
  },
  {
   "cell_type": "code",
   "execution_count": 39,
   "id": "8574192f",
   "metadata": {},
   "outputs": [
    {
     "data": {
      "text/plain": [
       "datetime.date(2021, 9, 26)"
      ]
     },
     "execution_count": 39,
     "metadata": {},
     "output_type": "execute_result"
    }
   ],
   "source": [
    "date.today()"
   ]
  },
  {
   "cell_type": "code",
   "execution_count": 40,
   "id": "116536e2",
   "metadata": {},
   "outputs": [],
   "source": [
    "nifty_f_n_o = pd.read_excel(\"stock_names.xlsx\",header=0,sheet_name=\"NSE F&O\")"
   ]
  },
  {
   "cell_type": "code",
   "execution_count": 41,
   "id": "69633252",
   "metadata": {},
   "outputs": [
    {
     "name": "stderr",
     "output_type": "stream",
     "text": [
      "<ipython-input-41-c4dfdca5c63e>:6: TqdmDeprecationWarning: This function will be removed in tqdm==5.0.0\n",
      "Please use `tqdm.notebook.tqdm` instead of `tqdm.tqdm_notebook`\n",
      "  for stock in tqdm(stock_names):\n"
     ]
    },
    {
     "data": {
      "application/vnd.jupyter.widget-view+json": {
       "model_id": "183d9d980507403189d0f7b8e53435d6",
       "version_major": 2,
       "version_minor": 0
      },
      "text/plain": [
       "  0%|          | 0/144 [00:00<?, ?it/s]"
      ]
     },
     "metadata": {},
     "output_type": "display_data"
    }
   ],
   "source": [
    "# stock_data_nse_f_n_o = pd.DataFrame(columns = ['Stock Name','Open','High','Low','Close','Volume'])\n",
    "\n",
    "stock_names = nifty_f_n_o['NSE Futures 150 stocks']\n",
    "\n",
    "from tqdm import tqdm_notebook as tqdm\n",
    "for stock in tqdm(stock_names):\n",
    "    temp = get_stock_data(stock)\n",
    "    temp = temp[['Stock Name', 'Open','High','Low','Close','Volume']]\n",
    "    \n",
    "    stock_data_nse_f_n_o=stock_data_nse_f_n_o.append(temp, ignore_index = True)"
   ]
  },
  {
   "cell_type": "code",
   "execution_count": 42,
   "id": "1ec0fc49",
   "metadata": {},
   "outputs": [],
   "source": [
    "# print (stock_data_nse_f_n_o)"
   ]
  },
  {
   "cell_type": "code",
   "execution_count": 43,
   "id": "e9e944fe",
   "metadata": {},
   "outputs": [
    {
     "data": {
      "text/plain": [
       "(0, 6)"
      ]
     },
     "execution_count": 43,
     "metadata": {},
     "output_type": "execute_result"
    }
   ],
   "source": [
    "stock_data_nse_f_n_o.shape"
   ]
  },
  {
   "cell_type": "code",
   "execution_count": 44,
   "id": "195796ed",
   "metadata": {},
   "outputs": [],
   "source": [
    "nifty_f_n_o_stocks_data = pd.merge(stock_data_nse_f_n_o, nifty_f_n_o, how='left', left_on=['Stock Name'], \n",
    "                                   right_on = [nifty_f_n_o.columns[0]])\n",
    "\n",
    "nifty_f_n_o_stocks_data = nifty_f_n_o_stocks_data[['Stock Name', 'Sector', 'Open','High','Low','Close','Volume']]\n",
    "\n",
    "nifty_f_n_o_stocks_data.replace(np.nan,'',inplace = True)"
   ]
  },
  {
   "cell_type": "code",
   "execution_count": 45,
   "id": "d79526c4",
   "metadata": {},
   "outputs": [
    {
     "data": {
      "text/plain": [
       "(0, 7)"
      ]
     },
     "execution_count": 45,
     "metadata": {},
     "output_type": "execute_result"
    }
   ],
   "source": [
    "nifty_f_n_o_stocks_data.shape"
   ]
  },
  {
   "cell_type": "code",
   "execution_count": null,
   "id": "7732f6c2",
   "metadata": {},
   "outputs": [],
   "source": []
  }
 ],
 "metadata": {
  "kernelspec": {
   "display_name": "Python 3",
   "language": "python",
   "name": "python3"
  },
  "language_info": {
   "codemirror_mode": {
    "name": "ipython",
    "version": 3
   },
   "file_extension": ".py",
   "mimetype": "text/x-python",
   "name": "python",
   "nbconvert_exporter": "python",
   "pygments_lexer": "ipython3",
   "version": "3.8.8"
  }
 },
 "nbformat": 4,
 "nbformat_minor": 5
}
